{
 "cells": [
  {
   "cell_type": "code",
   "execution_count": 3,
   "id": "136b4bfc-4980-4b1f-b051-a7f715fd577a",
   "metadata": {},
   "outputs": [
    {
     "name": "stdout",
     "output_type": "stream",
     "text": [
      "Processing customers.csv\n",
      "NaN values before replacement:\n",
      "customer_id                 0\n",
      "customer_unique_id          0\n",
      "customer_zip_code_prefix    0\n",
      "customer_city               0\n",
      "customer_state              0\n",
      "dtype: int64\n",
      "\n",
      "Processing orders.csv\n",
      "NaN values before replacement:\n",
      "order_id                            0\n",
      "customer_id                         0\n",
      "order_status                        0\n",
      "order_purchase_timestamp            0\n",
      "order_approved_at                 160\n",
      "order_delivered_carrier_date     1783\n",
      "order_delivered_customer_date    2965\n",
      "order_estimated_delivery_date       0\n",
      "dtype: int64\n",
      "\n",
      "Processing sellers.csv\n",
      "NaN values before replacement:\n",
      "seller_id                 0\n",
      "seller_zip_code_prefix    0\n",
      "seller_city               0\n",
      "seller_state              0\n",
      "dtype: int64\n",
      "\n",
      "Processing products.csv\n",
      "NaN values before replacement:\n",
      "product_id                      0\n",
      "product category              610\n",
      "product_name_length           610\n",
      "product_description_length    610\n",
      "product_photos_qty            610\n",
      "product_weight_g                2\n",
      "product_length_cm               2\n",
      "product_height_cm               2\n",
      "product_width_cm                2\n",
      "dtype: int64\n",
      "\n",
      "Processing geolocation.csv\n",
      "NaN values before replacement:\n",
      "geolocation_zip_code_prefix    0\n",
      "geolocation_lat                0\n",
      "geolocation_lng                0\n",
      "geolocation_city               0\n",
      "geolocation_state              0\n",
      "dtype: int64\n",
      "\n",
      "Processing payments.csv\n",
      "NaN values before replacement:\n",
      "order_id                0\n",
      "payment_sequential      0\n",
      "payment_type            0\n",
      "payment_installments    0\n",
      "payment_value           0\n",
      "dtype: int64\n",
      "\n",
      "Processing order_items.csv\n",
      "NaN values before replacement:\n",
      "order_id               0\n",
      "order_item_id          0\n",
      "product_id             0\n",
      "seller_id              0\n",
      "shipping_limit_date    0\n",
      "price                  0\n",
      "freight_value          0\n",
      "dtype: int64\n",
      "\n"
     ]
    }
   ],
   "source": [
    "import pandas as pd\n",
    "import mysql.connector\n",
    "import os\n",
    "\n",
    "# List of CSV files and their corresponding table names\n",
    "csv_files = [\n",
    "    ('customers.csv', 'customers'),\n",
    "    ('orders.csv', 'orders'),\n",
    "    ('sellers.csv', 'sellers'),\n",
    "    ('products.csv', 'products'),\n",
    "    ('geolocation.csv', 'geolocation'),\n",
    "    ('payments.csv', 'payments'), # Added payments.csv for specific handling\n",
    "    ('order_items.csv','order _items') \n",
    "]\n",
    "\n",
    "# Connect to the MySQL database\n",
    "conn = mysql.connector.connect(\n",
    "    host='localhost',\n",
    "    user='root',\n",
    "    password='Rohit@5267',\n",
    "    database='ecommerce'\n",
    ")\n",
    "cursor = conn.cursor()\n",
    "\n",
    "# Folder containing the CSV files\n",
    "folder_path = 'C:/Users/Rohit/Desktop/E-Commerce'\n",
    "\n",
    "def get_sql_type(dtype):\n",
    "    if pd.api.types.is_integer_dtype(dtype):\n",
    "        return 'INT'\n",
    "    elif pd.api.types.is_float_dtype(dtype):\n",
    "        return 'FLOAT'\n",
    "    elif pd.api.types.is_bool_dtype(dtype):\n",
    "        return 'BOOLEAN'\n",
    "    elif pd.api.types.is_datetime64_any_dtype(dtype):\n",
    "        return 'DATETIME'\n",
    "    else:\n",
    "        return 'TEXT'\n",
    "\n",
    "for csv_file, table_name in csv_files:\n",
    "    file_path = os.path.join(folder_path, csv_file)\n",
    "    \n",
    "    # Read the CSV file into a pandas DataFrame\n",
    "    df = pd.read_csv(file_path)\n",
    "    \n",
    "    # Replace NaN with None to handle SQL NULL\n",
    "    df = df.where(pd.notnull(df), None)\n",
    "    \n",
    "    # Debugging: Check for NaN values\n",
    "    print(f\"Processing {csv_file}\")\n",
    "    print(f\"NaN values before replacement:\\n{df.isnull().sum()}\\n\")\n",
    "\n",
    "    # Clean column names\n",
    "    df.columns = [col.replace(' ', '_').replace('-', '_').replace('.', '_') for col in df.columns]\n",
    "\n",
    "    # Generate the CREATE TABLE statement with appropriate data types\n",
    "    columns = ', '.join([f'`{col}` {get_sql_type(df[col].dtype)}' for col in df.columns])\n",
    "    create_table_query = f'CREATE TABLE IF NOT EXISTS `{table_name}` ({columns})'\n",
    "    cursor.execute(create_table_query)\n",
    "\n",
    "    # Insert DataFrame data into the MySQL table\n",
    "    for _, row in df.iterrows():\n",
    "        # Convert row to tuple and handle NaN/None explicitly\n",
    "        values = tuple(None if pd.isna(x) else x for x in row)\n",
    "        sql = f\"INSERT INTO `{table_name}` ({', '.join(['`' + col + '`' for col in df.columns])}) VALUES ({', '.join(['%s'] * len(row))})\"\n",
    "        cursor.execute(sql, values)\n",
    "\n",
    "    # Commit the transaction for the current CSV file\n",
    "    conn.commit()\n",
    "\n",
    "# Close the connection\n",
    "conn.close()"
   ]
  },
  {
   "cell_type": "code",
   "execution_count": 9,
   "id": "9b2bfeec-7b78-4669-9805-103c2c3029e8",
   "metadata": {},
   "outputs": [],
   "source": [
    "import pandas as pd \n",
    "import matplotlib.pyplot as plt\n",
    "import seaborn as sns\n",
    "import mysql.connector\n",
    "import numpy as np\n",
    "\n",
    "\n",
    "db=mysql.connector.connect(host='localhost',\n",
    "                           username='root',\n",
    "                           password='Rohit@5267',\n",
    "                           database='ecommerce')\n",
    "\n",
    "cur=db.cursor()\n",
    "\n",
    "\n",
    "\n"
   ]
  },
  {
   "cell_type": "markdown",
   "id": "259960d4-0f58-4467-a681-b62f1943b08e",
   "metadata": {},
   "source": [
    "# Basic Queries\n",
    "\n",
    "1. List all unique cities where customers are located.    \n",
    "\n",
    "\n"
   ]
  },
  {
   "cell_type": "code",
   "execution_count": 82,
   "id": "a204d2ec-1f1f-4bdf-a802-8700612a16bc",
   "metadata": {},
   "outputs": [
    {
     "data": {
      "text/html": [
       "<div>\n",
       "<style scoped>\n",
       "    .dataframe tbody tr th:only-of-type {\n",
       "        vertical-align: middle;\n",
       "    }\n",
       "\n",
       "    .dataframe tbody tr th {\n",
       "        vertical-align: top;\n",
       "    }\n",
       "\n",
       "    .dataframe thead th {\n",
       "        text-align: right;\n",
       "    }\n",
       "</style>\n",
       "<table border=\"1\" class=\"dataframe\">\n",
       "  <thead>\n",
       "    <tr style=\"text-align: right;\">\n",
       "      <th></th>\n",
       "      <th>0</th>\n",
       "    </tr>\n",
       "  </thead>\n",
       "  <tbody>\n",
       "    <tr>\n",
       "      <th>0</th>\n",
       "      <td>franca</td>\n",
       "    </tr>\n",
       "    <tr>\n",
       "      <th>1</th>\n",
       "      <td>sao bernardo do campo</td>\n",
       "    </tr>\n",
       "    <tr>\n",
       "      <th>2</th>\n",
       "      <td>sao paulo</td>\n",
       "    </tr>\n",
       "    <tr>\n",
       "      <th>3</th>\n",
       "      <td>mogi das cruzes</td>\n",
       "    </tr>\n",
       "    <tr>\n",
       "      <th>4</th>\n",
       "      <td>campinas</td>\n",
       "    </tr>\n",
       "    <tr>\n",
       "      <th>5</th>\n",
       "      <td>jaragua do sul</td>\n",
       "    </tr>\n",
       "    <tr>\n",
       "      <th>6</th>\n",
       "      <td>timoteo</td>\n",
       "    </tr>\n",
       "    <tr>\n",
       "      <th>7</th>\n",
       "      <td>curitiba</td>\n",
       "    </tr>\n",
       "    <tr>\n",
       "      <th>8</th>\n",
       "      <td>belo horizonte</td>\n",
       "    </tr>\n",
       "    <tr>\n",
       "      <th>9</th>\n",
       "      <td>montes claros</td>\n",
       "    </tr>\n",
       "  </tbody>\n",
       "</table>\n",
       "</div>"
      ],
      "text/plain": [
       "                       0\n",
       "0                 franca\n",
       "1  sao bernardo do campo\n",
       "2              sao paulo\n",
       "3        mogi das cruzes\n",
       "4               campinas\n",
       "5         jaragua do sul\n",
       "6                timoteo\n",
       "7               curitiba\n",
       "8         belo horizonte\n",
       "9          montes claros"
      ]
     },
     "execution_count": 82,
     "metadata": {},
     "output_type": "execute_result"
    }
   ],
   "source": [
    "import pandas as pd \n",
    "import matplotlib.pyplot as plt\n",
    "import seaborn as sns\n",
    "import mysql.connector\n",
    "\n",
    "db=mysql.connector.connect(host='localhost',\n",
    "                           username='root',\n",
    "                           password='Rohit@5267',\n",
    "                           database='ecommerce')\n",
    "\n",
    "cur=db.cursor()\n",
    "\n",
    "query=\"\"\"select distinct customer_city from customers\"\"\"\n",
    "\n",
    "cur.execute(query)\n",
    "\n",
    "data=cur.fetchall()\n",
    "df=pd.DataFrame(data)\n",
    "df.head(10)"
   ]
  },
  {
   "cell_type": "markdown",
   "id": "de2e0da0-ae56-4d31-acb3-32c673fe9fc7",
   "metadata": {},
   "source": [
    "2. Count the number of orders in 2017"
   ]
  },
  {
   "cell_type": "code",
   "execution_count": 20,
   "id": "ccf7c37a-bf6d-43fd-ade9-3d4d756419ba",
   "metadata": {},
   "outputs": [
    {
     "data": {
      "text/plain": [
       "45101"
      ]
     },
     "execution_count": 20,
     "metadata": {},
     "output_type": "execute_result"
    }
   ],
   "source": [
    "query=\"\"\"select count(order_id) from orders where year(order_purchase_timestamp)=2017\"\"\"\n",
    "\n",
    "cur.execute(query)\n",
    "\n",
    "data=cur.fetchall()\n",
    "data[0][0]"
   ]
  },
  {
   "cell_type": "markdown",
   "id": "8d4016ad-284a-4d9b-9520-2a1fb09e1360",
   "metadata": {},
   "source": [
    "3. Find the total sales per category"
   ]
  },
  {
   "cell_type": "code",
   "execution_count": 41,
   "id": "3a2cf72a-d9fb-43fd-b7a7-458438cc726c",
   "metadata": {
    "scrolled": true
   },
   "outputs": [
    {
     "data": {
      "text/html": [
       "<div>\n",
       "<style scoped>\n",
       "    .dataframe tbody tr th:only-of-type {\n",
       "        vertical-align: middle;\n",
       "    }\n",
       "\n",
       "    .dataframe tbody tr th {\n",
       "        vertical-align: top;\n",
       "    }\n",
       "\n",
       "    .dataframe thead th {\n",
       "        text-align: right;\n",
       "    }\n",
       "</style>\n",
       "<table border=\"1\" class=\"dataframe\">\n",
       "  <thead>\n",
       "    <tr style=\"text-align: right;\">\n",
       "      <th></th>\n",
       "      <th>category</th>\n",
       "      <th>sales</th>\n",
       "    </tr>\n",
       "  </thead>\n",
       "  <tbody>\n",
       "    <tr>\n",
       "      <th>0</th>\n",
       "      <td>PERFUMERY</td>\n",
       "      <td>506738.66</td>\n",
       "    </tr>\n",
       "    <tr>\n",
       "      <th>1</th>\n",
       "      <td>FURNITURE DECORATION</td>\n",
       "      <td>1430176.39</td>\n",
       "    </tr>\n",
       "    <tr>\n",
       "      <th>2</th>\n",
       "      <td>TELEPHONY</td>\n",
       "      <td>486882.05</td>\n",
       "    </tr>\n",
       "    <tr>\n",
       "      <th>3</th>\n",
       "      <td>FASHION BAGS AND ACCESSORIES</td>\n",
       "      <td>218158.28</td>\n",
       "    </tr>\n",
       "    <tr>\n",
       "      <th>4</th>\n",
       "      <td>BED TABLE BATH</td>\n",
       "      <td>1712553.67</td>\n",
       "    </tr>\n",
       "    <tr>\n",
       "      <th>...</th>\n",
       "      <td>...</td>\n",
       "      <td>...</td>\n",
       "    </tr>\n",
       "    <tr>\n",
       "      <th>69</th>\n",
       "      <td>CDS MUSIC DVDS</td>\n",
       "      <td>1199.43</td>\n",
       "    </tr>\n",
       "    <tr>\n",
       "      <th>70</th>\n",
       "      <td>LA CUISINE</td>\n",
       "      <td>2913.53</td>\n",
       "    </tr>\n",
       "    <tr>\n",
       "      <th>71</th>\n",
       "      <td>FASHION CHILDREN'S CLOTHING</td>\n",
       "      <td>785.67</td>\n",
       "    </tr>\n",
       "    <tr>\n",
       "      <th>72</th>\n",
       "      <td>PC GAMER</td>\n",
       "      <td>2174.43</td>\n",
       "    </tr>\n",
       "    <tr>\n",
       "      <th>73</th>\n",
       "      <td>INSURANCE AND SERVICES</td>\n",
       "      <td>324.51</td>\n",
       "    </tr>\n",
       "  </tbody>\n",
       "</table>\n",
       "<p>74 rows × 2 columns</p>\n",
       "</div>"
      ],
      "text/plain": [
       "                        category       sales\n",
       "0                      PERFUMERY   506738.66\n",
       "1           FURNITURE DECORATION  1430176.39\n",
       "2                      TELEPHONY   486882.05\n",
       "3   FASHION BAGS AND ACCESSORIES   218158.28\n",
       "4                 BED TABLE BATH  1712553.67\n",
       "..                           ...         ...\n",
       "69                CDS MUSIC DVDS     1199.43\n",
       "70                    LA CUISINE     2913.53\n",
       "71   FASHION CHILDREN'S CLOTHING      785.67\n",
       "72                      PC GAMER     2174.43\n",
       "73        INSURANCE AND SERVICES      324.51\n",
       "\n",
       "[74 rows x 2 columns]"
      ]
     },
     "execution_count": 41,
     "metadata": {},
     "output_type": "execute_result"
    }
   ],
   "source": [
    "query=\"\"\"select upper(products.product_category) category,round(sum(payments.payment_value),2) sales\n",
    "from products join order_items\n",
    "on products.product_id=order_items.product_id\n",
    "join payments\n",
    "on payments.order_id = order_items.order_id\n",
    "group by category\n",
    "\"\"\"\n",
    "\n",
    "cur.execute(query)\n",
    "\n",
    "data=cur.fetchall()\n",
    "data\n",
    "\n",
    "df=pd.DataFrame(data,columns=[\"category\",\"sales\"])\n",
    "df"
   ]
  },
  {
   "cell_type": "markdown",
   "id": "d4177d5d-8af6-4c3c-9ffe-0e6c316c0c69",
   "metadata": {},
   "source": [
    "4. Calculate the percentage of orders that were paid in installments"
   ]
  },
  {
   "cell_type": "code",
   "execution_count": 57,
   "id": "7cc92296-d888-4b66-878a-ca27a0dd0092",
   "metadata": {},
   "outputs": [
    {
     "data": {
      "text/plain": [
       "Decimal('99.9981')"
      ]
     },
     "execution_count": 57,
     "metadata": {},
     "output_type": "execute_result"
    }
   ],
   "source": [
    "query = \"\"\"select sum(case when payment_installments >= 1 then 1 else 0 end)/count(*)*100 from payments\"\"\"\n",
    "\n",
    "cur.execute(query)\n",
    "\n",
    "data=cur.fetchall()\n",
    "data[0][0]"
   ]
  },
  {
   "cell_type": "markdown",
   "id": "3649406e-c0bb-425c-9be4-4a0837b0598f",
   "metadata": {},
   "source": [
    "5. Count the number of customers from each state"
   ]
  },
  {
   "cell_type": "code",
   "execution_count": 77,
   "id": "ba6a1d84-b34f-437b-ba1a-f20df38c7995",
   "metadata": {},
   "outputs": [
    {
     "data": {
      "image/png": "[encoded data removed]",
      "text/plain": [
       "<Figure size 800x500 with 1 Axes>"
      ]
     },
     "metadata": {},
     "output_type": "display_data"
    }
   ],
   "source": [
    "query=\"\"\"select customer_state,count(customer_id)\n",
    "from customers group by customer_state\"\"\"\n",
    "\n",
    "cur.execute(query)\n",
    "\n",
    "data=cur.fetchall()\n",
    "df=pd.DataFrame(data,columns=['State','Customers'])\n",
    "df=df.sort_values(by=\"Customers\",ascending=False)\n",
    "plt.figure(figsize=(8,5))\n",
    "plt.bar(df[\"State\"],df[\"Customers\"])\n",
    "plt.xticks(rotation=90)\n",
    "plt.show()"
   ]
  },
  {
   "cell_type": "markdown",
   "id": "14e5f161-5c3d-4028-b792-214b6a54d4ca",
   "metadata": {},
   "source": [
    "# Intermediate Queries\n",
    "\n",
    "1. Calculate the number of orders per month in 2018"
   ]
  },
  {
   "cell_type": "code",
   "execution_count": 113,
   "id": "a821ca65-7f23-4f47-8dca-56c94638746f",
   "metadata": {},
   "outputs": [
    {
     "data": {
      "image/png": "[encoded data removed]",
      "text/plain": [
       "<Figure size 640x480 with 1 Axes>"
      ]
     },
     "metadata": {},
     "output_type": "display_data"
    }
   ],
   "source": [
    "query=\"\"\"select monthname(order_purchase_timestamp) months,count(order_id) order_count from orders\n",
    "where year(order_purchase_timestamp) = 2018\n",
    "group by months\"\"\"\n",
    "\n",
    "cur.execute(query)\n",
    "\n",
    "data=cur.fetchall()\n",
    "df=pd.DataFrame(data,columns=[\"Months\",\"Order_count\"])\n",
    "df\n",
    "o=[\"January\",\"February\",\"March\",\"April\",\"May\",\"June\",\"July\",\"August\",\"September\",\"October\"]\n",
    "\n",
    "a=sns.barplot(x=df[\"Months\"],y=df[\"Order_count\"],data=df,order=o,color=\"Green\")\n",
    "plt.xticks(rotation=90)\n",
    "a.bar_label(a.containers[0])\n",
    "plt.title(\"Count of orders by months in 2018\")\n",
    "plt.show()"
   ]
  },
  {
   "cell_type": "markdown",
   "id": "2e87d490-8894-4c97-bb83-d3418ce5f8de",
   "metadata": {},
   "source": [
    "2. Find the average numbers of products per order, grouped by customer city"
   ]
  },
  {
   "cell_type": "code",
   "execution_count": 116,
   "id": "1e69e26c-0d43-4549-97c4-568fe8423195",
   "metadata": {},
   "outputs": [
    {
     "data": {
      "text/html": [
       "<div>\n",
       "<style scoped>\n",
       "    .dataframe tbody tr th:only-of-type {\n",
       "        vertical-align: middle;\n",
       "    }\n",
       "\n",
       "    .dataframe tbody tr th {\n",
       "        vertical-align: top;\n",
       "    }\n",
       "\n",
       "    .dataframe thead th {\n",
       "        text-align: right;\n",
       "    }\n",
       "</style>\n",
       "<table border=\"1\" class=\"dataframe\">\n",
       "  <thead>\n",
       "    <tr style=\"text-align: right;\">\n",
       "      <th></th>\n",
       "      <th>City</th>\n",
       "      <th>Avg orders/customers</th>\n",
       "    </tr>\n",
       "  </thead>\n",
       "  <tbody>\n",
       "    <tr>\n",
       "      <th>0</th>\n",
       "      <td>sao jose dos campos</td>\n",
       "      <td>1.1385</td>\n",
       "    </tr>\n",
       "    <tr>\n",
       "      <th>1</th>\n",
       "      <td>indaial</td>\n",
       "      <td>1.1154</td>\n",
       "    </tr>\n",
       "    <tr>\n",
       "      <th>2</th>\n",
       "      <td>treze tilias</td>\n",
       "      <td>1.2727</td>\n",
       "    </tr>\n",
       "    <tr>\n",
       "      <th>3</th>\n",
       "      <td>sao paulo</td>\n",
       "      <td>1.1562</td>\n",
       "    </tr>\n",
       "    <tr>\n",
       "      <th>4</th>\n",
       "      <td>rio de janeiro</td>\n",
       "      <td>1.1468</td>\n",
       "    </tr>\n",
       "    <tr>\n",
       "      <th>5</th>\n",
       "      <td>mario campos</td>\n",
       "      <td>1.3333</td>\n",
       "    </tr>\n",
       "    <tr>\n",
       "      <th>6</th>\n",
       "      <td>guariba</td>\n",
       "      <td>1.0000</td>\n",
       "    </tr>\n",
       "    <tr>\n",
       "      <th>7</th>\n",
       "      <td>cuiaba</td>\n",
       "      <td>1.1976</td>\n",
       "    </tr>\n",
       "    <tr>\n",
       "      <th>8</th>\n",
       "      <td>franca</td>\n",
       "      <td>1.2516</td>\n",
       "    </tr>\n",
       "    <tr>\n",
       "      <th>9</th>\n",
       "      <td>tocos</td>\n",
       "      <td>1.0000</td>\n",
       "    </tr>\n",
       "  </tbody>\n",
       "</table>\n",
       "</div>"
      ],
      "text/plain": [
       "                  City Avg orders/customers\n",
       "0  sao jose dos campos               1.1385\n",
       "1              indaial               1.1154\n",
       "2         treze tilias               1.2727\n",
       "3            sao paulo               1.1562\n",
       "4       rio de janeiro               1.1468\n",
       "5         mario campos               1.3333\n",
       "6              guariba               1.0000\n",
       "7               cuiaba               1.1976\n",
       "8               franca               1.2516\n",
       "9                tocos               1.0000"
      ]
     },
     "execution_count": 116,
     "metadata": {},
     "output_type": "execute_result"
    }
   ],
   "source": [
    "query=\"\"\"with count_per_order as\n",
    "(select orders.order_id,orders.customer_id,count(order_items.order_id) as oc\n",
    "from orders join order_items\n",
    "on orders.order_id=order_items.order_id\n",
    "group by orders.order_id,orders.customer_id)\n",
    "\n",
    "select customers.customer_city,avg(count_per_order.oc)\n",
    "from customers join count_per_order\n",
    "on customers.customer_id = count_per_order.customer_id\n",
    "group by customers.customer_city;\"\"\"\n",
    "\n",
    "cur.execute(query)\n",
    "\n",
    "data=cur.fetchall()\n",
    "df=pd.DataFrame(data,columns=[\"City\",\"Avg orders/customers\"])\n",
    "df.head(10)"
   ]
  },
  {
   "cell_type": "markdown",
   "id": "d147fd33-db54-4597-9610-1960b79efd7d",
   "metadata": {},
   "source": [
    "3. Calculate the percentage of total revenue contributed by each product category"
   ]
  },
  {
   "cell_type": "code",
   "execution_count": 119,
   "id": "28dd1ffe-2cbe-4b24-927f-2c902a0cadb2",
   "metadata": {},
   "outputs": [
    {
     "data": {
      "text/html": [
       "<div>\n",
       "<style scoped>\n",
       "    .dataframe tbody tr th:only-of-type {\n",
       "        vertical-align: middle;\n",
       "    }\n",
       "\n",
       "    .dataframe tbody tr th {\n",
       "        vertical-align: top;\n",
       "    }\n",
       "\n",
       "    .dataframe thead th {\n",
       "        text-align: right;\n",
       "    }\n",
       "</style>\n",
       "<table border=\"1\" class=\"dataframe\">\n",
       "  <thead>\n",
       "    <tr style=\"text-align: right;\">\n",
       "      <th></th>\n",
       "      <th>Category</th>\n",
       "      <th>Sales Percentage</th>\n",
       "    </tr>\n",
       "  </thead>\n",
       "  <tbody>\n",
       "    <tr>\n",
       "      <th>0</th>\n",
       "      <td>BED TABLE BATH</td>\n",
       "      <td>10.70</td>\n",
       "    </tr>\n",
       "    <tr>\n",
       "      <th>1</th>\n",
       "      <td>HEALTH BEAUTY</td>\n",
       "      <td>10.35</td>\n",
       "    </tr>\n",
       "    <tr>\n",
       "      <th>2</th>\n",
       "      <td>COMPUTER ACCESSORIES</td>\n",
       "      <td>9.90</td>\n",
       "    </tr>\n",
       "    <tr>\n",
       "      <th>3</th>\n",
       "      <td>FURNITURE DECORATION</td>\n",
       "      <td>8.93</td>\n",
       "    </tr>\n",
       "    <tr>\n",
       "      <th>4</th>\n",
       "      <td>WATCHES PRESENT</td>\n",
       "      <td>8.93</td>\n",
       "    </tr>\n",
       "    <tr>\n",
       "      <th>...</th>\n",
       "      <td>...</td>\n",
       "      <td>...</td>\n",
       "    </tr>\n",
       "    <tr>\n",
       "      <th>69</th>\n",
       "      <td>HOUSE COMFORT 2</td>\n",
       "      <td>0.01</td>\n",
       "    </tr>\n",
       "    <tr>\n",
       "      <th>70</th>\n",
       "      <td>CDS MUSIC DVDS</td>\n",
       "      <td>0.01</td>\n",
       "    </tr>\n",
       "    <tr>\n",
       "      <th>71</th>\n",
       "      <td>PC GAMER</td>\n",
       "      <td>0.01</td>\n",
       "    </tr>\n",
       "    <tr>\n",
       "      <th>72</th>\n",
       "      <td>FASHION CHILDREN'S CLOTHING</td>\n",
       "      <td>0.00</td>\n",
       "    </tr>\n",
       "    <tr>\n",
       "      <th>73</th>\n",
       "      <td>INSURANCE AND SERVICES</td>\n",
       "      <td>0.00</td>\n",
       "    </tr>\n",
       "  </tbody>\n",
       "</table>\n",
       "<p>74 rows × 2 columns</p>\n",
       "</div>"
      ],
      "text/plain": [
       "                       Category  Sales Percentage\n",
       "0                BED TABLE BATH             10.70\n",
       "1                 HEALTH BEAUTY             10.35\n",
       "2          COMPUTER ACCESSORIES              9.90\n",
       "3          FURNITURE DECORATION              8.93\n",
       "4               WATCHES PRESENT              8.93\n",
       "..                          ...               ...\n",
       "69              HOUSE COMFORT 2              0.01\n",
       "70               CDS MUSIC DVDS              0.01\n",
       "71                     PC GAMER              0.01\n",
       "72  FASHION CHILDREN'S CLOTHING              0.00\n",
       "73       INSURANCE AND SERVICES              0.00\n",
       "\n",
       "[74 rows x 2 columns]"
      ]
     },
     "execution_count": 119,
     "metadata": {},
     "output_type": "execute_result"
    }
   ],
   "source": [
    "query=\"\"\"select upper(products.product_category) category,round(sum(payments.payment_value)/(select sum(payments.payment_value) from payments)*100,2) sales\n",
    "from products join order_items\n",
    "on products.product_id=order_items.product_id\n",
    "join payments\n",
    "on payments.order_id = order_items.order_id\n",
    "group by category order by sales desc;\"\"\"\n",
    "\n",
    "cur.execute(query)\n",
    "\n",
    "data=cur.fetchall()\n",
    "df=pd.DataFrame(data,columns=[\"Category\",\"Sales Percentage\"])\n",
    "df"
   ]
  },
  {
   "cell_type": "markdown",
   "id": "d3c21dd0-1d14-4390-9297-fa04694d9a61",
   "metadata": {},
   "source": [
    "4. Identify the correlation between product price and the number of items a product has been purchased"
   ]
  },
  {
   "cell_type": "code",
   "execution_count": 13,
   "id": "71bbf5a8-b379-499d-b7c9-753e2358ba3f",
   "metadata": {},
   "outputs": [
    {
     "data": {
      "text/plain": [
       "array([[ 1.        , -0.10631514],\n",
       "       [-0.10631514,  1.        ]])"
      ]
     },
     "execution_count": 13,
     "metadata": {},
     "output_type": "execute_result"
    }
   ],
   "source": [
    "query = \"\"\"select products.product_category,count(order_items.product_id),round(avg(order_items.price),2)\n",
    "from products join order_items\n",
    "on products.product_id=order_items.product_id\n",
    "group by products.product_category;\"\"\"\n",
    "\n",
    "cur.execute(query)\n",
    "\n",
    "data=cur.fetchall()\n",
    "df=pd.DataFrame(data,columns=[\"products\",\"item_count\",\"Price\"])\n",
    "\n",
    "arr1=df[\"item_count\"]\n",
    "arr2=df[\"Price\"]\n",
    "\n",
    "np.corrcoef([arr1,arr2])"
   ]
  },
  {
   "cell_type": "markdown",
   "id": "1fae7c2f-8200-4ec9-b8ad-108c22afaf89",
   "metadata": {},
   "source": [
    "5. Calculate the total revenue generated by each seller, and rank these by revenue"
   ]
  },
  {
   "cell_type": "code",
   "execution_count": 25,
   "id": "e5f6087a-de74-4894-8177-c464f0725733",
   "metadata": {},
   "outputs": [
    {
     "data": {
      "image/png": "[encoded data removed]",
      "text/plain": [
       "<Figure size 640x480 with 1 Axes>"
      ]
     },
     "metadata": {},
     "output_type": "display_data"
    }
   ],
   "source": [
    "query = \"\"\"select*,dense_rank() over(order by revenue desc) from (select order_items.seller_id,round(sum(payments.payment_value),2) revenue\n",
    "from order_items join payments\n",
    "on order_items.order_id=payments.order_id\n",
    "group by  order_items.seller_id) as a;\"\"\"\n",
    "\n",
    "cur.execute(query)\n",
    "\n",
    "data=cur.fetchall()\n",
    "df=pd.DataFrame(data,columns=[\"Seller_id\",\"Revenue\",\"Rank\"])\n",
    "df.head(10)\n",
    "sns.barplot(x=\"Seller_id\",y=\"Revenue\",data=df.head())\n",
    "plt.xticks(rotation=90)\n",
    "plt.show()"
   ]
  },
  {
   "cell_type": "markdown",
   "id": "fc23cd41-c763-4f59-9273-e34a5f72596b",
   "metadata": {},
   "source": [
    "# Advanced Queries\n",
    "\n",
    "1. Calculate the moving average of order values for each customer over order history"
   ]
  },
  {
   "cell_type": "code",
   "execution_count": 30,
   "id": "bcb5fae0-9765-4f35-83a1-6c185ced3361",
   "metadata": {},
   "outputs": [
    {
     "data": {
      "text/html": [
       "<div>\n",
       "<style scoped>\n",
       "    .dataframe tbody tr th:only-of-type {\n",
       "        vertical-align: middle;\n",
       "    }\n",
       "\n",
       "    .dataframe tbody tr th {\n",
       "        vertical-align: top;\n",
       "    }\n",
       "\n",
       "    .dataframe thead th {\n",
       "        text-align: right;\n",
       "    }\n",
       "</style>\n",
       "<table border=\"1\" class=\"dataframe\">\n",
       "  <thead>\n",
       "    <tr style=\"text-align: right;\">\n",
       "      <th></th>\n",
       "      <th>Customer Id</th>\n",
       "      <th>Time Stamps</th>\n",
       "      <th>Payment</th>\n",
       "      <th>Moving Average</th>\n",
       "    </tr>\n",
       "  </thead>\n",
       "  <tbody>\n",
       "    <tr>\n",
       "      <th>0</th>\n",
       "      <td>00012a2ce6f8dcda20d059ce98491703</td>\n",
       "      <td>2017-11-14 16:08:26</td>\n",
       "      <td>114.74</td>\n",
       "      <td>114.739998</td>\n",
       "    </tr>\n",
       "    <tr>\n",
       "      <th>1</th>\n",
       "      <td>000161a058600d5901f007fab4c27140</td>\n",
       "      <td>2017-07-16 09:40:32</td>\n",
       "      <td>67.41</td>\n",
       "      <td>67.410004</td>\n",
       "    </tr>\n",
       "    <tr>\n",
       "      <th>2</th>\n",
       "      <td>0001fd6190edaaf884bcaf3d49edf079</td>\n",
       "      <td>2017-02-28 11:06:43</td>\n",
       "      <td>195.42</td>\n",
       "      <td>195.419998</td>\n",
       "    </tr>\n",
       "    <tr>\n",
       "      <th>3</th>\n",
       "      <td>0002414f95344307404f0ace7a26f1d5</td>\n",
       "      <td>2017-08-16 13:09:20</td>\n",
       "      <td>179.35</td>\n",
       "      <td>179.350006</td>\n",
       "    </tr>\n",
       "    <tr>\n",
       "      <th>4</th>\n",
       "      <td>000379cdec625522490c315e70c7a9fb</td>\n",
       "      <td>2018-04-02 13:42:17</td>\n",
       "      <td>107.01</td>\n",
       "      <td>107.010002</td>\n",
       "    </tr>\n",
       "  </tbody>\n",
       "</table>\n",
       "</div>"
      ],
      "text/plain": [
       "                        Customer Id          Time Stamps  Payment  \\\n",
       "0  00012a2ce6f8dcda20d059ce98491703  2017-11-14 16:08:26   114.74   \n",
       "1  000161a058600d5901f007fab4c27140  2017-07-16 09:40:32    67.41   \n",
       "2  0001fd6190edaaf884bcaf3d49edf079  2017-02-28 11:06:43   195.42   \n",
       "3  0002414f95344307404f0ace7a26f1d5  2017-08-16 13:09:20   179.35   \n",
       "4  000379cdec625522490c315e70c7a9fb  2018-04-02 13:42:17   107.01   \n",
       "\n",
       "   Moving Average  \n",
       "0      114.739998  \n",
       "1       67.410004  \n",
       "2      195.419998  \n",
       "3      179.350006  \n",
       "4      107.010002  "
      ]
     },
     "execution_count": 30,
     "metadata": {},
     "output_type": "execute_result"
    }
   ],
   "source": [
    "query = \"\"\"select customer_id,order_purchase_timestamp,payment,avg(payment) over(partition by customer_id order by\n",
    "order_purchase_timestamp rows between 2 preceding and current row) as mov_avg\n",
    "from\n",
    "(select orders.customer_id,orders.order_purchase_timestamp,payments.payment_value as payment\n",
    "from payments join orders\n",
    "on payments.order_id=orders.order_id) as a;\"\"\"\n",
    "\n",
    "cur.execute(query)\n",
    "\n",
    "data=cur.fetchall()\n",
    "df=pd.DataFrame(data,columns=[\"Customer Id\",\"Time Stamps\",\"Payment\",\"Moving Average\"])\n",
    "df.head()"
   ]
  },
  {
   "cell_type": "markdown",
   "id": "cb4fe4c9-f695-45f2-9d63-c2be2fb36cfb",
   "metadata": {
    "jp-MarkdownHeadingCollapsed": true
   },
   "source": [
    "# 2. Calculate the cumulative sales per month for each year."
   ]
  },
  {
   "cell_type": "code",
   "execution_count": 33,
   "id": "42c79782-91f2-4566-ba5a-4f69019518df",
   "metadata": {},
   "outputs": [
    {
     "data": {
      "text/html": [
       "<div>\n",
       "<style scoped>\n",
       "    .dataframe tbody tr th:only-of-type {\n",
       "        vertical-align: middle;\n",
       "    }\n",
       "\n",
       "    .dataframe tbody tr th {\n",
       "        vertical-align: top;\n",
       "    }\n",
       "\n",
       "    .dataframe thead th {\n",
       "        text-align: right;\n",
       "    }\n",
       "</style>\n",
       "<table border=\"1\" class=\"dataframe\">\n",
       "  <thead>\n",
       "    <tr style=\"text-align: right;\">\n",
       "      <th></th>\n",
       "      <th>Year</th>\n",
       "      <th>Month</th>\n",
       "      <th>Payment</th>\n",
       "      <th>Cumulative Sales</th>\n",
       "    </tr>\n",
       "  </thead>\n",
       "  <tbody>\n",
       "    <tr>\n",
       "      <th>0</th>\n",
       "      <td>2016</td>\n",
       "      <td>December</td>\n",
       "      <td>19.62</td>\n",
       "      <td>19.62</td>\n",
       "    </tr>\n",
       "    <tr>\n",
       "      <th>1</th>\n",
       "      <td>2016</td>\n",
       "      <td>October</td>\n",
       "      <td>59090.48</td>\n",
       "      <td>59110.10</td>\n",
       "    </tr>\n",
       "    <tr>\n",
       "      <th>2</th>\n",
       "      <td>2016</td>\n",
       "      <td>September</td>\n",
       "      <td>252.24</td>\n",
       "      <td>59362.34</td>\n",
       "    </tr>\n",
       "    <tr>\n",
       "      <th>3</th>\n",
       "      <td>2017</td>\n",
       "      <td>April</td>\n",
       "      <td>417788.03</td>\n",
       "      <td>477150.37</td>\n",
       "    </tr>\n",
       "    <tr>\n",
       "      <th>4</th>\n",
       "      <td>2017</td>\n",
       "      <td>August</td>\n",
       "      <td>674396.32</td>\n",
       "      <td>1151546.69</td>\n",
       "    </tr>\n",
       "  </tbody>\n",
       "</table>\n",
       "</div>"
      ],
      "text/plain": [
       "   Year      Month    Payment  Cumulative Sales\n",
       "0  2016   December      19.62             19.62\n",
       "1  2016    October   59090.48          59110.10\n",
       "2  2016  September     252.24          59362.34\n",
       "3  2017      April  417788.03         477150.37\n",
       "4  2017     August  674396.32        1151546.69"
      ]
     },
     "execution_count": 33,
     "metadata": {},
     "output_type": "execute_result"
    }
   ],
   "source": [
    "query = \"\"\"Select years, months,payment,sum(payment) over(order by years,months) cumulative_Sales from\n",
    "(Select year(orders.order_purchase_timestamp) as years,\n",
    "monthname(orders.order_purchase_timestamp)as months,round(sum(payments.payment_value),2) as Payment\n",
    "from orders join payments\n",
    "on orders.order_id=payments.order_id\n",
    "group by years,months) as a;\"\"\"\n",
    "\n",
    "cur.execute(query)\n",
    "\n",
    "data=cur.fetchall()\n",
    "df=pd.DataFrame(data,columns=[\"Year\",\"Month\",\"Payment\",\"Cumulative Sales\"])\n",
    "df.head()"
   ]
  },
  {
   "cell_type": "markdown",
   "id": "e681a7d5-a7ec-4140-9c9c-4ab65771d51d",
   "metadata": {},
   "source": [
    "3. Calculate the year over year growth rate of total sales."
   ]
  },
  {
   "cell_type": "code",
   "execution_count": 49,
   "id": "4750a5b0-185b-48c6-8e91-3eb4a59e11af",
   "metadata": {},
   "outputs": [
    {
     "data": {
      "text/html": [
       "<div>\n",
       "<style scoped>\n",
       "    .dataframe tbody tr th:only-of-type {\n",
       "        vertical-align: middle;\n",
       "    }\n",
       "\n",
       "    .dataframe tbody tr th {\n",
       "        vertical-align: top;\n",
       "    }\n",
       "\n",
       "    .dataframe thead th {\n",
       "        text-align: right;\n",
       "    }\n",
       "</style>\n",
       "<table border=\"1\" class=\"dataframe\">\n",
       "  <thead>\n",
       "    <tr style=\"text-align: right;\">\n",
       "      <th></th>\n",
       "      <th>Year</th>\n",
       "      <th>Sales</th>\n",
       "      <th>Year Growth %</th>\n",
       "    </tr>\n",
       "  </thead>\n",
       "  <tbody>\n",
       "    <tr>\n",
       "      <th>0</th>\n",
       "      <td>2016</td>\n",
       "      <td>59362.34</td>\n",
       "      <td>NaN</td>\n",
       "    </tr>\n",
       "    <tr>\n",
       "      <th>1</th>\n",
       "      <td>2017</td>\n",
       "      <td>7249746.73</td>\n",
       "      <td>12112.703761</td>\n",
       "    </tr>\n",
       "    <tr>\n",
       "      <th>2</th>\n",
       "      <td>2018</td>\n",
       "      <td>8699763.05</td>\n",
       "      <td>20.000924</td>\n",
       "    </tr>\n",
       "  </tbody>\n",
       "</table>\n",
       "</div>"
      ],
      "text/plain": [
       "   Year       Sales  Year Growth %\n",
       "0  2016    59362.34            NaN\n",
       "1  2017  7249746.73   12112.703761\n",
       "2  2018  8699763.05      20.000924"
      ]
     },
     "execution_count": 49,
     "metadata": {},
     "output_type": "execute_result"
    }
   ],
   "source": [
    "query = \"\"\"with a as(Select year(orders.order_purchase_timestamp) as years,\n",
    "round(sum(payments.payment_value),2) as Payment\n",
    "from orders join payments\n",
    "on orders.order_id=payments.order_id\n",
    "group by years order by years)\n",
    "\n",
    "\n",
    "select years,payment,((payment-lag(payment,1) over(order by years))/lag(payment,1) over(order by years))*100 from a \"\"\"\n",
    "\n",
    "cur.execute(query)\n",
    "\n",
    "data=cur.fetchall()\n",
    "df=pd.DataFrame(data,columns=[\"Year\",\"Sales\",\"Year Growth %\"])\n",
    "df"
   ]
  },
  {
   "cell_type": "markdown",
   "id": "a4a08661-a2c7-4904-a3f3-0d131b1d9f8c",
   "metadata": {},
   "source": [
    "4.Calculate the retention rate of customers, defined as the percentage of customer who make another purchase within 6 months."
   ]
  },
  {
   "cell_type": "code",
   "execution_count": 51,
   "id": "bcfda167-4d76-4b89-9d03-8a4fcaef2bff",
   "metadata": {},
   "outputs": [
    {
     "data": {
      "text/plain": [
       "[(None,)]"
      ]
     },
     "execution_count": 51,
     "metadata": {},
     "output_type": "execute_result"
    }
   ],
   "source": [
    "query = \"\"\"with a as(select customers.customer_id,min(orders.order_purchase_timestamp) first_order\n",
    "from customers join orders\n",
    "on customers.customer_id=orders.customer_id\n",
    "group by customers.customer_id),\n",
    "\n",
    "b as(select a.customer_id, count(distinct orders.order_purchase_timestamp) next_order\n",
    "from a join orders\n",
    "on orders.customer_id=a.customer_id\n",
    "and orders.order_purchase_timestamp>first_order\n",
    "and orders.order_purchase_timestamp < date_add(first_order,interval 6 month)\n",
    "group by a.customer_id)\n",
    "\n",
    "select 100*(count(distinct a.customer_id)/count(distinct b.customer_id))\n",
    "from a left join b\n",
    "on a.customer_id=b.customer_id;\"\"\"\n",
    "\n",
    "cur.execute(query)\n",
    "\n",
    "data=cur.fetchall()\n",
    "data\n",
    "\n",
    "# NO customer in data is repeated due to tthe reason it is showing as none"
   ]
  },
  {
   "cell_type": "markdown",
   "id": "4ad4c94e-a930-4737-b60e-f64c0344dc06",
   "metadata": {},
   "source": [
    "5. Identify the top 3 customers who spent the most money in each year"
   ]
  },
  {
   "cell_type": "code",
   "execution_count": 58,
   "id": "7c21106c-2ae3-450f-b366-fef7a70969c0",
   "metadata": {},
   "outputs": [
    {
     "data": {
      "image/png": "[encoded data removed]",
      "text/plain": [
       "<Figure size 640x480 with 1 Axes>"
      ]
     },
     "metadata": {},
     "output_type": "display_data"
    }
   ],
   "source": [
    "query = \"\"\"select years,customer_id,payment,d_rank from\n",
    "(select year(orders.order_purchase_timestamp) years, orders.customer_id, round(sum(payments.payment_value),2) payment,\n",
    "dense_rank() over (partition by year(orders.order_purchase_timestamp) order by sum(payments.payment_value) desc) d_rank\n",
    "from orders join payments\n",
    "on orders.order_id=payments.order_id\n",
    "group by year(orders.order_purchase_timestamp),orders.customer_id) as a where d_rank<=3;\"\"\"\n",
    "\n",
    "cur.execute(query)\n",
    "\n",
    "data=cur.fetchall()\n",
    "df=pd.DataFrame(data,columns=[\"Years\",\"Customer Id\",\"Payment\",\"Rank\"])\n",
    "sns.barplot(data=df,x=\"Customer Id\",y=\"Payment\",hue=\"Years\")\n",
    "plt.xticks(rotation=90)\n",
    "plt.show()"
   ]
  }
 ],
 "metadata": {
  "kernelspec": {
   "display_name": "Python 3 (ipykernel)",
   "language": "python",
   "name": "python3"
  },
  "language_info": {
   "codemirror_mode": {
    "name": "ipython",
    "version": 3
   },
   "file_extension": ".py",
   "mimetype": "text/x-python",
   "name": "python",
   "nbconvert_exporter": "python",
   "pygments_lexer": "ipython3",
   "version": "3.11.5"
  }
 },
 "nbformat": 4,
 "nbformat_minor": 5
}
